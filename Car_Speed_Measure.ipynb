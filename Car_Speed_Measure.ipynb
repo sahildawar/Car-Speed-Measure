{
  "cells": [
    {
      "cell_type": "markdown",
      "metadata": {
        "id": "view-in-github",
        "colab_type": "text"
      },
      "source": [
        "<a href=\"https://colab.research.google.com/github/sahildawar/Car-Speed-Measure/blob/main/Car_Speed_Measure.ipynb\" target=\"_parent\"><img src=\"https://colab.research.google.com/assets/colab-badge.svg\" alt=\"Open In Colab\"/></a>"
      ]
    },
    {
      "cell_type": "code",
      "execution_count": null,
      "metadata": {
        "id": "1_GZrpBYPhYT"
      },
      "outputs": [],
      "source": [
        "!pip install torch torchvision torchaudio opencv-python\n",
        "import cv2\n",
        "import torch\n",
        "import numpy as np\n",
        "from collections import defaultdict\n",
        "from google.colab import files"
      ]
    },
    {
      "cell_type": "code",
      "execution_count": null,
      "metadata": {
        "id": "ej_eSEZP3wkR",
        "collapsed": true
      },
      "outputs": [],
      "source": [
        "!pip install ultralytics"
      ]
    },
    {
      "cell_type": "code",
      "source": [
        "from ultralytics import YOLO\n",
        "\n",
        "model = YOLO('yolov8s.pt')"
      ],
      "metadata": {
        "id": "N5k2_El3Axv6"
      },
      "execution_count": null,
      "outputs": []
    },
    {
      "cell_type": "code",
      "execution_count": null,
      "metadata": {
        "id": "nJbt1kf03zUQ"
      },
      "outputs": [],
      "source": [
        "video_path = '/content/Untitled video - Made with Clipchamp.mp4'\n",
        "cap = cv2.VideoCapture(video_path)"
      ]
    },
    {
      "cell_type": "code",
      "execution_count": null,
      "metadata": {
        "id": "jbOo4N_i4pUQ"
      },
      "outputs": [],
      "source": [
        "fps = cap.get(cv2.CAP_PROP_FPS)\n",
        "width  = int(cap.get(cv2.CAP_PROP_FRAME_WIDTH))\n",
        "height = int(cap.get(cv2.CAP_PROP_FRAME_HEIGHT))\n"
      ]
    },
    {
      "cell_type": "code",
      "execution_count": null,
      "metadata": {
        "id": "vF_RNioZ4vyu"
      },
      "outputs": [],
      "source": [
        "out = cv2.VideoWriter('output_with_speed.avi',\n",
        "                      cv2.VideoWriter_fourcc(*'XVID'),\n",
        "                      fps,\n",
        "                      (width, height))"
      ]
    },
    {
      "cell_type": "code",
      "execution_count": null,
      "metadata": {
        "id": "xZL2WALf5AtH"
      },
      "outputs": [],
      "source": [
        "car_tracks = defaultdict(list)\n",
        "prev_centroids = {}\n",
        "next_id = 0\n",
        "frame_no = 0\n",
        "pixel_to_meter = 0.05"
      ]
    },
    {
      "cell_type": "code",
      "execution_count": null,
      "metadata": {
        "id": "CnbZAaIS5NpA"
      },
      "outputs": [],
      "source": [
        "def assign_id(new_centroid, prev_centroids, threshold=50):\n",
        "    for car_id, prev_centroid in prev_centroids.items():\n",
        "        dist = np.linalg.norm(np.array(new_centroid) - np.array(prev_centroid))\n",
        "        if dist < threshold:\n",
        "            return car_id\n",
        "    return None\n"
      ]
    },
    {
      "cell_type": "code",
      "execution_count": null,
      "metadata": {
        "collapsed": true,
        "id": "LI73L1YZ7RCI"
      },
      "outputs": [],
      "source": [
        "from ultralytics.utils import ops  # Make sure this is imported\n",
        "\n",
        "while cap.isOpened():\n",
        "    ret, frame = cap.read()\n",
        "    if not ret:\n",
        "        break\n",
        "\n",
        "    results = model(frame)[0]  # YOLOv8 returns a list; get the first result\n",
        "\n",
        "    boxes = results.boxes.xyxy.cpu().numpy()        # (xmin, ymin, xmax, ymax)\n",
        "    confidences = results.boxes.conf.cpu().numpy()  # confidence scores\n",
        "    class_ids = results.boxes.cls.cpu().numpy()     # class indices\n",
        "    current_centroids = {}\n",
        "\n",
        "    for i, box in enumerate(boxes):\n",
        "        class_id = int(class_ids[i])\n",
        "        class_name = model.names[class_id]\n",
        "\n",
        "        if class_name != 'car':\n",
        "            continue\n",
        "\n",
        "        xmin, ymin, xmax, ymax = map(int, box)\n",
        "        center_x = int((xmin + xmax) / 2)\n",
        "        center_y = int((ymin + ymax) / 2)\n",
        "        centroid = (center_x, center_y)\n",
        "\n",
        "        car_id = assign_id(centroid, prev_centroids)\n",
        "        if car_id is None:\n",
        "            car_id = next_id\n",
        "            next_id += 1\n",
        "\n",
        "        car_tracks[car_id].append((center_x, center_y, frame_no))\n",
        "        current_centroids[car_id] = centroid\n",
        "\n",
        "        speed_text = f\"ID:{car_id} | Speed: -- km/h\"\n",
        "        if len(car_tracks[car_id]) >= 2:\n",
        "            x1, y1, f1 = car_tracks[car_id][-2]\n",
        "            x2, y2, f2 = car_tracks[car_id][-1]\n",
        "            pixel_dist = np.sqrt((x2 - x1) ** 2 + (y2 - y1) ** 2)\n",
        "            meter_dist = pixel_dist * pixel_to_meter\n",
        "            time_elapsed = (f2 - f1) / fps\n",
        "            if time_elapsed > 0:\n",
        "                speed = (meter_dist / time_elapsed) * 3.6  # Convert to km/h\n",
        "                speed_text = f\"ID:{car_id} | {speed:.1f} km/h\"\n",
        "\n",
        "        cv2.rectangle(frame, (xmin, ymin), (xmax, ymax), (0, 255, 0), 2)\n",
        "        cv2.putText(frame, speed_text, (xmin, ymin - 10),\n",
        "                    cv2.FONT_HERSHEY_SIMPLEX, 0.5, (0, 255, 255), 2)\n",
        "\n",
        "    prev_centroids = current_centroids.copy()\n",
        "    frame_no += 1\n",
        "    out.write(frame)\n",
        "\n",
        "cap.release()\n",
        "out.release()\n",
        "files.download('output_with_speed.avi')\n"
      ]
    },
    {
      "cell_type": "code",
      "source": [
        "from google.colab import files\n",
        "files.download('output_with_speed.avi')\n"
      ],
      "metadata": {
        "id": "GTwuk3UM84M8"
      },
      "execution_count": null,
      "outputs": []
    }
  ],
  "metadata": {
    "accelerator": "GPU",
    "colab": {
      "gpuType": "T4",
      "provenance": [],
      "authorship_tag": "ABX9TyM8Mp/qni6DtBjlJ4VSnd8m",
      "include_colab_link": true
    },
    "kernelspec": {
      "display_name": "Python 3",
      "name": "python3"
    },
    "language_info": {
      "name": "python"
    }
  },
  "nbformat": 4,
  "nbformat_minor": 0
}